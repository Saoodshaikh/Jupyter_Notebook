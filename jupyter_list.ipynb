{
 "cells": [
  {
   "cell_type": "markdown",
   "metadata": {},
   "source": [
    "1. Write a Python program to sum all the items in a list."
   ]
  },
  {
   "cell_type": "code",
   "execution_count": 4,
   "metadata": {},
   "outputs": [
    {
     "name": "stdout",
     "output_type": "stream",
     "text": [
      "1219\n"
     ]
    }
   ],
   "source": [
    "def sum_all(number):\n",
    "    sum =0\n",
    "    for i in number:\n",
    "        sum = sum +i\n",
    "    return sum\n",
    "number=[23,90,100,98,908]\n",
    "print(sum_all(number))"
   ]
  },
  {
   "cell_type": "markdown",
   "metadata": {},
   "source": [
    "2. Write a Python program to multiply all the items in a list."
   ]
  },
  {
   "cell_type": "code",
   "execution_count": 12,
   "metadata": {},
   "outputs": [
    {
     "name": "stdout",
     "output_type": "stream",
     "text": [
      "140\n"
     ]
    }
   ],
   "source": [
    "def multiply_numbers(number):\n",
    "    sum_of_multiply = 1\n",
    "    for multiply  in number:\n",
    "        sum_of_multiply = multiply*sum_of_multiply\n",
    "    return sum_of_multiply\n",
    "\n",
    "number = [2,5,2,7]\n",
    "print(multiply_numbers(number))"
   ]
  },
  {
   "cell_type": "markdown",
   "metadata": {},
   "source": [
    "3. Write a Python program to get the largest number from a list."
   ]
  },
  {
   "cell_type": "code",
   "execution_count": 18,
   "metadata": {},
   "outputs": [
    {
     "name": "stdout",
     "output_type": "stream",
     "text": [
      "900\n"
     ]
    }
   ],
   "source": [
    "def largest_number(number):\n",
    "    first_ele =number[0]\n",
    "    for  i in number[1:]:\n",
    "        if i > first_ele:\n",
    "            first_ele=i\n",
    "    return first_ele\n",
    "\n",
    "number = [100,23,90,43,900\n",
    "          ]\n",
    "print(largest_number(number))"
   ]
  },
  {
   "cell_type": "markdown",
   "metadata": {},
   "source": [
    "4. Write a Python program to get the smallest number from a list."
   ]
  },
  {
   "cell_type": "code",
   "execution_count": 19,
   "metadata": {},
   "outputs": [
    {
     "name": "stdout",
     "output_type": "stream",
     "text": [
      "32\n"
     ]
    }
   ],
   "source": [
    "def smallest_number(number):\n",
    "    small_num = number[0]\n",
    "    print()\n",
    "number=[90,56,54,32,34]\n",
    "print(smallest_number(number))"
   ]
  },
  {
   "cell_type": "code",
   "execution_count": 20,
   "metadata": {},
   "outputs": [
    {
     "name": "stdout",
     "output_type": "stream",
     "text": [
      "32\n"
     ]
    }
   ],
   "source": [
    "def smallest_number(number):\n",
    "    first_ele = number[0]\n",
    "    for i in number:\n",
    "        if i<first_ele:\n",
    "            first_ele=i\n",
    "    return first_ele\n",
    "number=[90,56,54,32,34]\n",
    "print(smallest_number(number))"
   ]
  },
  {
   "cell_type": "markdown",
   "metadata": {},
   "source": [
    "Write a Python program to count the number of strings from a given list of strings. The string length is 2 or more and the first and last characters are the same.\n",
    "Sample List : ['abc', 'xyz', 'aba', '1221']\n",
    "Expected Result : 2"
   ]
  },
  {
   "cell_type": "code",
   "execution_count": 1,
   "metadata": {},
   "outputs": [
    {
     "name": "stdout",
     "output_type": "stream",
     "text": [
      "3\n"
     ]
    }
   ],
   "source": [
    "def count_samestr(a):\n",
    "    str2=''\n",
    "    count=0\n",
    "    for i in a:\n",
    "        if i[0]==i[-1]:\n",
    "            count+=1\n",
    "    return count\n",
    "a=['abc', 'xyz', 'aba', '1221','saus']\n",
    "print(count_samestr(a))"
   ]
  },
  {
   "cell_type": "markdown",
   "metadata": {},
   "source": [
    "Write a Python program to get a list, sorted in increasing order by the last element in each tuple from a given list of non-empty tuples.\n",
    "Sample List : [(2, 5), (1, 2), (4, 4), (2, 3), (2, 1)]\n",
    "Expected Result : [(2, 1), (1, 2), (2, 3), (4, 4), (2, 5)]"
   ]
  },
  {
   "cell_type": "code",
   "execution_count": 11,
   "metadata": {},
   "outputs": [
    {
     "name": "stdout",
     "output_type": "stream",
     "text": [
      "[(2, 1), (1, 2), (2, 3), (4, 4), (2, 5)]\n"
     ]
    }
   ],
   "source": [
    "def sorted_list(list1):\n",
    "    for i in range(len(list1)):\n",
    "        for j in range(i+1, len(list1)):\n",
    "            if list1[i][1] > list1[j][1]:\n",
    "                list1[i], list1[j]=list1[j], list1[i]\n",
    "    return list1\n",
    "\n",
    "list1=[(2, 5), (1, 2), (4, 4), (2, 3), (2, 1)]\n",
    "print(sorted_list(list1))"
   ]
  },
  {
   "cell_type": "markdown",
   "metadata": {},
   "source": [
    "Write a Python program to check if a list is empty or not."
   ]
  },
  {
   "cell_type": "markdown",
   "metadata": {},
   "source": [
    "Python: Find the list of words that are longer than n from a given list of words"
   ]
  },
  {
   "cell_type": "code",
   "execution_count": 47,
   "metadata": {},
   "outputs": [
    {
     "name": "stdout",
     "output_type": "stream",
     "text": [
      "['saaaaa', 'good', 'saud', 'Sha', 'is']\n"
     ]
    }
   ],
   "source": [
    "def longer_words(n,list1):\n",
    "    split_list=[]\n",
    "    new_list=list1.split()\n",
    "    for i in range(len(new_list)):\n",
    "        for j in range(i+1, len(new_list)):\n",
    "            if len(new_list[i]) < len(new_list[j]):\n",
    "                new_list[i], new_list[j] = new_list[j], new_list[i]\n",
    "    return new_list\n",
    "\n",
    "\n",
    "list1='Sha saud is good saaaaa'\n",
    "print(longer_words(3,list1))\n"
   ]
  },
  {
   "cell_type": "markdown",
   "metadata": {},
   "source": [
    "Write a Python function that takes two lists and returns True if they have at least one common member"
   ]
  },
  {
   "cell_type": "code",
   "execution_count": 61,
   "metadata": {},
   "outputs": [
    {
     "name": "stdout",
     "output_type": "stream",
     "text": [
      "None\n"
     ]
    }
   ],
   "source": [
    "def common_list(list1, list2):\n",
    "    for i in list1:\n",
    "        for j in list2:\n",
    "            if i==j:\n",
    "                result= True\n",
    "                return result\n",
    "list1=[900,100]\n",
    "list2=[10,11,12,5,9]\n",
    "print(common_list(list1, list2))"
   ]
  },
  {
   "cell_type": "markdown",
   "metadata": {},
   "source": [
    "Write a Python program to print a specified list after removing the 0th, 4th and 5th elements."
   ]
  },
  {
   "cell_type": "code",
   "execution_count": 22,
   "metadata": {},
   "outputs": [
    {
     "name": "stdout",
     "output_type": "stream",
     "text": [
      "['Red', 'Pink', 'Yellow']\n"
     ]
    }
   ],
   "source": [
    "a=['Red', 'Green', 'White', 'Black', 'Pink', 'Yellow']\n",
    "#output ['Green', 'White', 'Black']\n",
    "remove_items=['Green', 'White', 'Black']\n",
    "b=[item for item in a if item not in remove_items]\n",
    "print(b)"
   ]
  },
  {
   "cell_type": "code",
   "execution_count": 21,
   "metadata": {},
   "outputs": [
    {
     "name": "stdout",
     "output_type": "stream",
     "text": [
      "[1, 3, 5, 7]\n"
     ]
    }
   ],
   "source": [
    "original_list = [1, 2, 3, 4, 5, 6, 7]\n",
    "elements_to_remove = [2, 4, 6]\n",
    "\n",
    "new_list = [item for item in original_list if item not in elements_to_remove]\n",
    "print(new_list)\n"
   ]
  },
  {
   "cell_type": "code",
   "execution_count": null,
   "metadata": {},
   "outputs": [],
   "source": []
  }
 ],
 "metadata": {
  "kernelspec": {
   "display_name": "Python 3",
   "language": "python",
   "name": "python3"
  },
  "language_info": {
   "codemirror_mode": {
    "name": "ipython",
    "version": 3
   },
   "file_extension": ".py",
   "mimetype": "text/x-python",
   "name": "python",
   "nbconvert_exporter": "python",
   "pygments_lexer": "ipython3",
   "version": "3.11.4"
  }
 },
 "nbformat": 4,
 "nbformat_minor": 2
}
