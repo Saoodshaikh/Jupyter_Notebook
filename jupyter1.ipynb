{
 "cells": [
  {
   "cell_type": "code",
   "execution_count": null,
   "metadata": {},
   "outputs": [
    {
     "name": "stdout",
     "output_type": "stream",
     "text": [
      "[(2, 1), (1, 2), (2, 3), (4, 4), (2, 5)]\n"
     ]
    }
   ],
   "source": [
    "#Write a Python program to get a list, sorted in increasing order by the last element in each tuple from a given list of non-empty tuples.\n",
    "a= [(2, 5), (1, 2), (4, 4), (2, 3), (2, 1)]\n",
    "for i in range(len(a)):\n",
    "    for j in range(i+1, len(a)):\n",
    "        if a[i][-1] > a[j][-1]:\n",
    "            a[i], a[j] =a[j], a[i]\n",
    "print(a)"
   ]
  },
  {
   "cell_type": "code",
   "execution_count": null,
   "metadata": {},
   "outputs": [
    {
     "name": "stdout",
     "output_type": "stream",
     "text": [
      "[2, 3, 7, 6, 1]\n"
     ]
    }
   ],
   "source": [
    "#   Write a Python program to remove duplicates from a list.\n",
    "a=[2,3,7,6,7,2,1,1]\n",
    "b=[]\n",
    "for i in a:\n",
    "    if i not in b:\n",
    "        b.append(i)\n",
    "    else:\n",
    "        pass\n",
    "print(b)\n",
    "\n"
   ]
  },
  {
   "cell_type": "code",
   "execution_count": null,
   "metadata": {},
   "outputs": [
    {
     "name": "stdout",
     "output_type": "stream",
     "text": [
      "True\n",
      "True\n"
     ]
    }
   ],
   "source": [
    "# Write a Python function that takes two lists and returns True if they have at least one common member.\n",
    "a=[2,1,3,4]\n",
    "b=[7,9,0,1,4]\n",
    "for i in a:\n",
    "    for j in b:\n",
    "        if i == j :\n",
    "            print(True)\n",
    "        else:\n",
    "            None"
   ]
  },
  {
   "cell_type": "code",
   "execution_count": 17,
   "metadata": {},
   "outputs": [],
   "source": [
    "#  Write a Python program to generate and print a list of the first and last 5 elements where the values are square numbers between 1 and 30 (both included).\n",
    "\n",
    "\n"
   ]
  },
  {
   "cell_type": "markdown",
   "metadata": {},
   "source": [
    "DSA In Pyhton"
   ]
  },
  {
   "cell_type": "code",
   "execution_count": 22,
   "metadata": {},
   "outputs": [
    {
     "name": "stdout",
     "output_type": "stream",
     "text": [
      "python\n"
     ]
    }
   ],
   "source": [
    "a=['p','y','t','h','o','n']\n",
    "b=''\n",
    "for i in a:\n",
    "    b+=(i)\n",
    "print(str(b))\n"
   ]
  },
  {
   "cell_type": "markdown",
   "metadata": {},
   "source": [
    "# Array in python"
   ]
  },
  {
   "cell_type": "code",
   "execution_count": 2,
   "metadata": {},
   "outputs": [
    {
     "name": "stdout",
     "output_type": "stream",
     "text": [
      "array('i', [23, 12, 32])\n"
     ]
    }
   ],
   "source": [
    "from array import *\n",
    "a1 = array('i', [23,12,32])\n",
    "# the first parameter will be Typecode second will be elements\n",
    "type(a1)\n",
    "print(a1)\n"
   ]
  },
  {
   "cell_type": "markdown",
   "metadata": {},
   "source": [
    "# string concept"
   ]
  },
  {
   "cell_type": "markdown",
   "metadata": {},
   "source": [
    "Write a Python program to calculate the length of a string."
   ]
  },
  {
   "cell_type": "code",
   "execution_count": 4,
   "metadata": {},
   "outputs": [
    {
     "name": "stdout",
     "output_type": "stream",
     "text": [
      "4\n"
     ]
    }
   ],
   "source": [
    "a= 'saud'\n",
    "print(len(a))"
   ]
  },
  {
   "cell_type": "code",
   "execution_count": 6,
   "metadata": {},
   "outputs": [
    {
     "name": "stdout",
     "output_type": "stream",
     "text": [
      "4\n"
     ]
    }
   ],
   "source": [
    "def str_count(a):\n",
    "    count = 0\n",
    "    for i in a:\n",
    "        count +=1\n",
    "    return count\n",
    "b='saud'\n",
    "print(str_count(b))"
   ]
  },
  {
   "cell_type": "markdown",
   "metadata": {},
   "source": [
    "Write a Python program to count the number of characters (character frequency) in a string"
   ]
  },
  {
   "cell_type": "code",
   "execution_count": 9,
   "metadata": {},
   "outputs": [
    {
     "name": "stdout",
     "output_type": "stream",
     "text": [
      "{'s': 1, 'a': 2, 'o': 2, 'd': 1, 'b': 1, 'h': 1, 'i': 2}\n"
     ]
    }
   ],
   "source": [
    "def count_number(a):\n",
    "    dic = {}\n",
    "    for i in range(len(a)):\n",
    "        for j in range(i+1, len(a)):\n",
    "            if a[i]==a[j]:\n",
    "                dic.update({a[i]:a.count(a[i])})\n",
    "            else:\n",
    "                dic.update({a[i]:a.count(a[i])})\n",
    "    return dic\n",
    "a='saoodbhaii'\n",
    "print(count_number(a))"
   ]
  },
  {
   "cell_type": "markdown",
   "metadata": {},
   "source": [
    "3. Write a Python program to get a string made of the first 2 and last 2 characters of a given string. If the string length is less than 2, return the empty string instead."
   ]
  },
  {
   "cell_type": "code",
   "execution_count": 21,
   "metadata": {},
   "outputs": [
    {
     "name": "stdout",
     "output_type": "stream",
     "text": [
      "w3rse\n"
     ]
    }
   ],
   "source": [
    "def add_first_and_last_char(a):\n",
    "    a=a[:2] + a[-3:]\n",
    "    return a\n",
    "a=\"w3resourse\"\n",
    "print(add_first_and_last_char(a))"
   ]
  },
  {
   "cell_type": "markdown",
   "metadata": {},
   "source": [
    "Write a Python program to get a string from a given string where all occurrences of its first char have been changed to '$', except the first char itself"
   ]
  },
  {
   "cell_type": "code",
   "execution_count": 23,
   "metadata": {},
   "outputs": [
    {
     "name": "stdout",
     "output_type": "stream",
     "text": [
      "resta$t\n"
     ]
    }
   ],
   "source": [
    "def dollar_add(a):\n",
    "    first_char = a[0]\n",
    "    b=first_char + a[1:].replace(first_char, '$')\n",
    "    return b\n",
    "a='restart'\n",
    "print(dollar_add(a))"
   ]
  },
  {
   "cell_type": "markdown",
   "metadata": {},
   "source": [
    "Write a Python program to get a single string from two given strings, separated by a space and swap the first two characters of each string."
   ]
  },
  {
   "cell_type": "code",
   "execution_count": 32,
   "metadata": {},
   "outputs": [
    {
     "name": "stdout",
     "output_type": "stream",
     "text": [
      "sauhshaikd\n"
     ]
    }
   ],
   "source": [
    "def combined_swapecase(a,b):\n",
    "    # combined =b[:].replace(b[-1],a[-1]) + a[:].replace(a[-1],b[-1])\n",
    "    com = b[:-1]+a[-1] + a[:-1]+b[-1]\n",
    "    return com\n",
    "\n",
    "a='shaikh'\n",
    "b='saud'\n",
    "print(combined_swapecase(a,b))"
   ]
  },
  {
   "cell_type": "markdown",
   "metadata": {},
   "source": [
    "Write a Python program to add 'ing' at the end of a given string (length should be at least 3). If the given string already ends with 'ing', add 'ly' instead. If the string length of the given string is less than 3, leave it unchanged."
   ]
  },
  {
   "cell_type": "code",
   "execution_count": 34,
   "metadata": {},
   "outputs": [
    {
     "name": "stdout",
     "output_type": "stream",
     "text": [
      "('stringly', 'string')\n"
     ]
    }
   ],
   "source": [
    "def add_char(a,b):\n",
    "    str1=''\n",
    "    str2=''\n",
    "    if len(a)<3:\n",
    "        None\n",
    "    if len(b)>=3 and str(b).endswith('ing'):\n",
    "        str1 +=b+'ly'\n",
    "    if len(a)>=3:\n",
    "        str2 +=a+'ing'\n",
    "    return str1, str2\n",
    "\n",
    "a='str'\n",
    "b='string'\n",
    "print(add_char(a,b))"
   ]
  },
  {
   "cell_type": "markdown",
   "metadata": {},
   "source": [
    "Write a Python program to find the first appearance of the substrings 'not' and 'poor' in a given string. If 'not' follows 'poor', replace the whole 'not'...'poor' substring with 'good'. Return the resulting string"
   ]
  },
  {
   "cell_type": "code",
   "execution_count": 51,
   "metadata": {},
   "outputs": [
    {
     "name": "stdout",
     "output_type": "stream",
     "text": [
      "This boy is good\n"
     ]
    }
   ],
   "source": [
    "def poor_not(a):\n",
    "\n",
    "    if 'poor' and 'not' in a:\n",
    "         c=a.replace('not a poor','good')\n",
    "    return c\n",
    "\n",
    "a='This boy is not a poor'\n",
    "print(poor_not(a))"
   ]
  },
  {
   "cell_type": "markdown",
   "metadata": {},
   "source": [
    "Write a Python function that takes a list of words and return the longest word and the length of the longest one"
   ]
  },
  {
   "cell_type": "code",
   "execution_count": 57,
   "metadata": {},
   "outputs": [
    {
     "name": "stdout",
     "output_type": "stream",
     "text": [
      "('mohammed', 8)\n"
     ]
    }
   ],
   "source": [
    "def longest_word(a):\n",
    "    longests_word = ''\n",
    "    longest_length = 0\n",
    "    for word in a:\n",
    "        current_length =0\n",
    "        for char in word:\n",
    "            current_length +=1\n",
    "\n",
    "        if current_length > longest_length:\n",
    "            longest_length = current_length\n",
    "            longests_word = word\n",
    "\n",
    "    return longests_word, longest_length\n",
    "\n",
    "\n",
    "\n",
    "\n",
    "a=['shaikh', 'saud', 'adnan', 'Waqar','mohammed']\n",
    "print(longest_word(a))"
   ]
  },
  {
   "cell_type": "code",
   "execution_count": 60,
   "metadata": {},
   "outputs": [
    {
     "name": "stdout",
     "output_type": "stream",
     "text": [
      "('mohammed', 8)\n"
     ]
    }
   ],
   "source": [
    "def longest_word(a):\n",
    "    word =''\n",
    "    longest_len = 0\n",
    "    for words in a:\n",
    "            if len(words) > longest_len:\n",
    "                longest_len = len(words)\n",
    "                word = words\n",
    "    return word, longest_len\n",
    "\n",
    "a=['shaikh', 'saud', 'adnan', 'Waqar','mohammed']\n",
    "print(longest_word(a))"
   ]
  },
  {
   "cell_type": "markdown",
   "metadata": {},
   "source": [
    "Write a Python program to change a given string to a newly string where the first and last chars have been exchanged."
   ]
  },
  {
   "cell_type": "code",
   "execution_count": 61,
   "metadata": {},
   "outputs": [
    {
     "name": "stdout",
     "output_type": "stream",
     "text": [
      "daus\n"
     ]
    }
   ],
   "source": [
    "def exchange_first_last_ele(str1):\n",
    "    return str1[-1:] + str1[1:-1] + str1[:1]\n",
    "a='saud'\n",
    "print(exchange_first_last_ele(a))\n"
   ]
  },
  {
   "cell_type": "markdown",
   "metadata": {},
   "source": [
    " Write a Python program to remove characters that have odd index values in a given string."
   ]
  },
  {
   "cell_type": "code",
   "execution_count": 66,
   "metadata": {},
   "outputs": [
    {
     "name": "stdout",
     "output_type": "stream",
     "text": [
      "sod\n"
     ]
    }
   ],
   "source": [
    "def remove_odd_index(str1):\n",
    "    str2=''\n",
    "    for i in range(len(str1)):\n",
    "        if i % 2==0:\n",
    "            str2+=str1[i]\n",
    "    return str2\n",
    "str1='saood'\n",
    "print(remove_odd_index(str1))"
   ]
  },
  {
   "cell_type": "markdown",
   "metadata": {},
   "source": [
    "Write a Python program to count the occurrences of each word in a given sentence."
   ]
  },
  {
   "cell_type": "code",
   "execution_count": 89,
   "metadata": {},
   "outputs": [
    {
     "name": "stdout",
     "output_type": "stream",
     "text": [
      "['shaikh', 'is', 'saood', 'is', 'a', 'good', 'boy', 'shaikh', 'shaikh', 'is']\n",
      "{'shaikh': 3, 'is': 3, 'saood': 1, 'a': 1, 'good': 1, 'boy': 1}\n"
     ]
    }
   ],
   "source": [
    "def count_word(str1):\n",
    "    str2 = {}\n",
    "\n",
    "    str3=str1.split()\n",
    "    print(str3)\n",
    "    for i in range(len(str3)):\n",
    "        for j in range(i+1, len(str3)):\n",
    "            if str3[i] == str3[j]:\n",
    "                str2[str3[i]] = str3.count(str3[i])\n",
    "            else:\n",
    "                str2[str3[i]]= str3.count(str3[i])\n",
    "    return str2\n",
    "\n",
    "str1 = 'shaikh is saood is a good boy shaikh shaikh is'\n",
    "print(count_word(str1))"
   ]
  },
  {
   "cell_type": "markdown",
   "metadata": {},
   "source": [
    "Write a Python program that accepts a comma-separated sequence of words as input and prints the distinct words in sorted form (alphanumerically).\n"
   ]
  },
  {
   "cell_type": "code",
   "execution_count": 95,
   "metadata": {},
   "outputs": [
    {
     "name": "stdout",
     "output_type": "stream",
     "text": [
      "['black', 'gree', 'puprple', 'red', 'yellw']\n"
     ]
    }
   ],
   "source": [
    "def sorted_list(str1):\n",
    "    str2=str1.split(',')\n",
    "    str3=[]\n",
    "    for i in str2:\n",
    "        str3.append((i))\n",
    "    sorted_words = sorted(str3)\n",
    "    return sorted_words\n",
    "str1 = input('')\n",
    "print(sorted_list(str1))"
   ]
  },
  {
   "cell_type": "code",
   "execution_count": 99,
   "metadata": {},
   "outputs": [
    {
     "name": "stdout",
     "output_type": "stream",
     "text": [
      "red\n",
      "red\n",
      "Distinct words in sorted form: ['black', 'green', 'red', 'yellow']\n"
     ]
    }
   ],
   "source": [
    "def distinct_sorted_words(input_string):\n",
    "    if not input_string:\n",
    "        return []\n",
    "\n",
    "    words = [word.strip() for word in input_string.split(',')]\n",
    "    unique_words = []\n",
    "\n",
    "    for word in words:\n",
    "        if word not in unique_words:\n",
    "            unique_words.append(word)\n",
    "\n",
    "    # Manual sorting without using sorted method\n",
    "    for i in range(len(unique_words)):\n",
    "        for j in range(i + 1, len(unique_words)):\n",
    "            if unique_words[i] > unique_words[j]:\n",
    "                print(unique_words[i])\n",
    "                unique_words[i], unique_words[j] = unique_words[j], unique_words[i]\n",
    "\n",
    "    return unique_words\n",
    "\n",
    "# Example usage\n",
    "input_sequence = input(\"Enter a comma-separated sequence of words: \")\n",
    "result = distinct_sorted_words(input_sequence)\n",
    "\n",
    "print(\"Distinct words in sorted form:\", result)\n"
   ]
  },
  {
   "cell_type": "markdown",
   "metadata": {},
   "source": [
    "Write a Python function to reverse a string if its length is a multiple of 4."
   ]
  },
  {
   "cell_type": "code",
   "execution_count": 102,
   "metadata": {},
   "outputs": [
    {
     "name": "stdout",
     "output_type": "stream",
     "text": [
      "h\n",
      "k\n",
      "i\n",
      "a\n",
      "h\n",
      "s\n",
      "hkiahs\n"
     ]
    }
   ],
   "source": [
    "def reversed_string(str1):\n",
    "    if len(str1)<4:\n",
    "        return None\n",
    "    str2=''\n",
    "    for i in str1[::-1]:\n",
    "        print(i)\n",
    "        str2+=i\n",
    "    return str2\n",
    "str1='shaikh'\n",
    "print(reversed_string(str1))\n"
   ]
  },
  {
   "cell_type": "markdown",
   "metadata": {},
   "source": [
    "Write a Python function to convert a given string to all uppercase if it contains at least 2 uppercase characters in the first 4 characters."
   ]
  },
  {
   "cell_type": "code",
   "execution_count": 24,
   "metadata": {},
   "outputs": [
    {
     "name": "stdout",
     "output_type": "stream",
     "text": [
      "SASPOOD\n"
     ]
    }
   ],
   "source": [
    "def upper_char(str1):\n",
    "    count =0\n",
    "    for i in str1[:4]:\n",
    "        if i.upper() == i:\n",
    "            count+=1\n",
    "    if count >= 2:\n",
    "            return str1.upper()\n",
    "    return str1\n",
    "str1='SaSpood'\n",
    "print(upper_char(str1))"
   ]
  },
  {
   "cell_type": "markdown",
   "metadata": {},
   "source": [
    "Write a Python program to sort a string lexicographically."
   ]
  },
  {
   "cell_type": "code",
   "execution_count": 49,
   "metadata": {},
   "outputs": [
    {
     "name": "stdout",
     "output_type": "stream",
     "text": [
      "ahhiks\n"
     ]
    }
   ],
   "source": [
    "str1='shaikh'\n",
    "str2=list(str1)\n",
    "for i in range(len(str2)):\n",
    "    for j in range(i+1, len(str2)):\n",
    "        if str2[i] > str2[j]:\n",
    "            str2[i], str2[j] = str2[j], str2[i]\n",
    "print(''.join(str2))"
   ]
  },
  {
   "cell_type": "code",
   "execution_count": null,
   "metadata": {},
   "outputs": [],
   "source": []
  }
 ],
 "metadata": {
  "kernelspec": {
   "display_name": "Python 3",
   "language": "python",
   "name": "python3"
  },
  "language_info": {
   "codemirror_mode": {
    "name": "ipython",
    "version": 3
   },
   "file_extension": ".py",
   "mimetype": "text/x-python",
   "name": "python",
   "nbconvert_exporter": "python",
   "pygments_lexer": "ipython3",
   "version": "3.11.4"
  }
 },
 "nbformat": 4,
 "nbformat_minor": 2
}
