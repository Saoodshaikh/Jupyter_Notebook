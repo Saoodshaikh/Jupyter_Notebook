{
 "cells": [
  {
   "cell_type": "markdown",
   "metadata": {},
   "source": [
    "Write a Python program to convert JSON data to Python object."
   ]
  },
  {
   "cell_type": "code",
   "execution_count": 3,
   "metadata": {},
   "outputs": [
    {
     "name": "stdout",
     "output_type": "stream",
     "text": [
      "{'name': 'saud', 'add': 'Sakinaka', 'degree': 'bachelors'}\n",
      "saud\n"
     ]
    }
   ],
   "source": [
    "import json\n",
    "json_data = '{\"name\":\"saud\", \"add\":\"Sakinaka\", \"degree\":\"bachelors\"}'\n",
    "python_data=json.loads(json_data)\n",
    "print(python_data)\n",
    "print(python_data['name'])"
   ]
  },
  {
   "cell_type": "markdown",
   "metadata": {},
   "source": [
    " Write a Python program to convert Python object to JSON data."
   ]
  },
  {
   "cell_type": "code",
   "execution_count": 9,
   "metadata": {},
   "outputs": [
    {
     "name": "stdout",
     "output_type": "stream",
     "text": [
      "<class 'dict'>\n",
      "{\"name\": \"saud\", \"address\": \"sakinaka\", \"degree\": \"bachelors\"}\n"
     ]
    }
   ],
   "source": [
    "import json\n",
    "python_data={'name':'saud', 'address':'sakinaka', 'degree':'bachelors'}\n",
    "print(type(python_data))\n",
    "json_data=json.dumps(python_data)\n",
    "print(json_data)"
   ]
  },
  {
   "cell_type": "markdown",
   "metadata": {},
   "source": [
    " Write a Python program to convert Python objects into JSON strings. Print all the values."
   ]
  },
  {
   "cell_type": "code",
   "execution_count": 10,
   "metadata": {},
   "outputs": [
    {
     "name": "stdout",
     "output_type": "stream",
     "text": [
      "{\"name\": \"saud\", \"address\": \"sakinaka\", \"degree\": \"bachelors\"}\n",
      "[\"Red\", \"Green\", \"Black\"]\n",
      "\"shaikh Saud\"\n"
     ]
    }
   ],
   "source": [
    "import json\n",
    "python_dict ={'name':'saud', 'address':'sakinaka', 'degree':'bachelors'}\n",
    "python_list = [\"Red\", \"Green\", \"Black\"]\n",
    "python_string = \"shaikh Saud\"\n",
    "\n",
    "json_dict =json.dumps(python_dict)\n",
    "Json_list = json.dumps(python_list)\n",
    "json_str = json.dumps(python_string)\n",
    "\n",
    "print(json_dict)\n",
    "print(Json_list)\n",
    "print(json_str)"
   ]
  },
  {
   "cell_type": "markdown",
   "metadata": {},
   "source": [
    "Write a Python program to convert Python dictionary object (sort by key) to JSON data. Print the object members with indent level 4."
   ]
  },
  {
   "cell_type": "code",
   "execution_count": 23,
   "metadata": {},
   "outputs": [
    {
     "name": "stdout",
     "output_type": "stream",
     "text": [
      "{\n",
      "    \"address\": \"sakinaka\",\n",
      "    \"degree\": \"bachelors\",\n",
      "    \"name\": \"saud\"\n",
      "}\n"
     ]
    }
   ],
   "source": [
    "import json\n",
    "python_data = {\"name\": \"saud\", \"address\": \"sakinaka\", \"degree\": \"bachelors\"}\n",
    "json_sorted_data = json.dumps(python_data, sort_keys=True, indent=4)\n",
    "print(json_sorted_data)"
   ]
  },
  {
   "cell_type": "code",
   "execution_count": 28,
   "metadata": {},
   "outputs": [
    {
     "name": "stdout",
     "output_type": "stream",
     "text": [
      "{\"address\": \"sakinaka\", \"degree\": \"bachelors\", \"name\": \"saud\"}\n"
     ]
    }
   ],
   "source": [
    "import json\n",
    "python_data = {\"name\": \"saud\", \"address\": \"sakinaka\", \"degree\": \"bachelors\"}\n",
    "sorted_dict =dict(sorted(python_data.items()))\n",
    "json_data=json.dumps(sorted_dict)\n",
    "print(json_data)"
   ]
  },
  {
   "cell_type": "markdown",
   "metadata": {},
   "source": [
    "Write a Python program to create a new JSON file from an existing JSON file."
   ]
  },
  {
   "cell_type": "code",
   "execution_count": null,
   "metadata": {},
   "outputs": [],
   "source": [
    "import json\n",
    "with open('states.json') as f:\n",
    "    state_data = json.loads(f)\n",
    "\n",
    "for state in state_data['states']:\n",
    "    del state['areas_code']\n",
    "    \n",
    "with open('new_states.json', 'w') as f:\n",
    "    json.dumps(state_data, f, indent=2)\n",
    "    "
   ]
  }
 ],
 "metadata": {
  "kernelspec": {
   "display_name": "Python 3",
   "language": "python",
   "name": "python3"
  },
  "language_info": {
   "codemirror_mode": {
    "name": "ipython",
    "version": 3
   },
   "file_extension": ".py",
   "mimetype": "text/x-python",
   "name": "python",
   "nbconvert_exporter": "python",
   "pygments_lexer": "ipython3",
   "version": "3.11.4"
  }
 },
 "nbformat": 4,
 "nbformat_minor": 2
}
